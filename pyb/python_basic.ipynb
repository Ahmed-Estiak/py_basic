{
 "cells": [
  {
   "cell_type": "code",
   "execution_count": 1,
   "id": "7b341efc",
   "metadata": {},
   "outputs": [
    {
     "name": "stdout",
     "output_type": "stream",
     "text": [
      "5\n"
     ]
    }
   ],
   "source": [
    "a=5\n",
    "print(a)"
   ]
  },
  {
   "cell_type": "code",
   "execution_count": 2,
   "id": "750509cf",
   "metadata": {},
   "outputs": [
    {
     "name": "stdout",
     "output_type": "stream",
     "text": [
      "6\n",
      "9\n",
      "92\n",
      "14\n",
      "5\n",
      "10\n",
      "[6, 9, 92, 14, 5, 10]\n"
     ]
    }
   ],
   "source": [
    "my_list=[4,7,90,12,3,8]\n",
    "c=[]\n",
    "for i in my_list:\n",
    "  i=i+2\n",
    "  print (i)\n",
    "  c.append(i)\n",
    "print(c)"
   ]
  },
  {
   "cell_type": "code",
   "execution_count": 3,
   "id": "890c04d0",
   "metadata": {},
   "outputs": [
    {
     "name": "stdout",
     "output_type": "stream",
     "text": [
      "10\n"
     ]
    }
   ],
   "source": [
    "a=5\n",
    "\n",
    "if a<6:\n",
    "  b=a+5\n",
    "elif a>6:\n",
    "  b=a-5\n",
    "else:\n",
    "  b=a*5\n",
    "\n",
    "print(b)"
   ]
  },
  {
   "cell_type": "code",
   "execution_count": null,
   "id": "be58b031",
   "metadata": {},
   "outputs": [],
   "source": [
    "name1= input(\"What is your name?\")\n",
    "def greet(name):\n",
    "  print (\"Hello, \", name , \"!\")\n",
    "greet(name1)\n"
   ]
  },
  {
   "cell_type": "code",
   "execution_count": 1,
   "id": "cbef9a4c",
   "metadata": {},
   "outputs": [
    {
     "name": "stdout",
     "output_type": "stream",
     "text": [
      "Your name is Jessia\n"
     ]
    }
   ],
   "source": [
    "name=\"Jessia\"\n",
    "print(f\"Your name is {name}\")"
   ]
  },
  {
   "cell_type": "code",
   "execution_count": 2,
   "id": "66967f6e",
   "metadata": {},
   "outputs": [
    {
     "name": "stdout",
     "output_type": "stream",
     "text": [
      "Hello, Jessia\n"
     ]
    }
   ],
   "source": [
    "# name = input(\"What is your name? \")\n",
    "print(\"Hello,\", name)\n"
   ]
  },
  {
   "cell_type": "code",
   "execution_count": 3,
   "id": "3b5e1664",
   "metadata": {},
   "outputs": [
    {
     "data": {
      "application/vnd.jupyter.widget-view+json": {
       "model_id": "6bdb27eabfd54e06a3c8a1497c3fa3f3",
       "version_major": 2,
       "version_minor": 0
      },
      "text/plain": [
       "Text(value='', description='Your name:')"
      ]
     },
     "metadata": {},
     "output_type": "display_data"
    },
    {
     "data": {
      "application/vnd.jupyter.widget-view+json": {
       "model_id": "2011e689b7e44fc5a8a977bffcbbd59e",
       "version_major": 2,
       "version_minor": 0
      },
      "text/plain": [
       "Button(description='Greet Me', style=ButtonStyle())"
      ]
     },
     "metadata": {},
     "output_type": "display_data"
    },
    {
     "data": {
      "application/vnd.jupyter.widget-view+json": {
       "model_id": "317fd61b7b104f75b48b4bd11c6d1900",
       "version_major": 2,
       "version_minor": 0
      },
      "text/plain": [
       "Output()"
      ]
     },
     "metadata": {},
     "output_type": "display_data"
    }
   ],
   "source": [
    "from IPython.display import display\n",
    "import ipywidgets as widgets\n",
    "\n",
    "name_box = widgets.Text(description=\"Your name:\")\n",
    "button = widgets.Button(description=\"Greet Me\")\n",
    "\n",
    "output = widgets.Output()\n",
    "\n",
    "def on_button_click(b):\n",
    "    with output:\n",
    "        output.clear_output()\n",
    "        print(f\"Hello, {name_box.value}!\")\n",
    "\n",
    "button.on_click(on_button_click)\n",
    "\n",
    "display(name_box, button, output)\n"
   ]
  },
  {
   "cell_type": "markdown",
   "id": "f3e5d0b4",
   "metadata": {},
   "source": [
    "Write a function that checks if a number is prime."
   ]
  },
  {
   "cell_type": "code",
   "execution_count": 4,
   "id": "c8756ddc",
   "metadata": {},
   "outputs": [
    {
     "name": "stdout",
     "output_type": "stream",
     "text": [
      "3 is a prime number.\n"
     ]
    }
   ],
   "source": [
    "def prime_num_checker(num):\n",
    "    if num < 2:\n",
    "        return False\n",
    "    for i in range(2, num):\n",
    "        if num%i==0:\n",
    "            return print(num, \"is not a prime number.\")\n",
    "    return print(num, \"is a prime number.\")\n",
    "\n",
    "number=3\n",
    "prime_num_checker(number)"
   ]
  },
  {
   "cell_type": "code",
   "execution_count": 5,
   "id": "3c14fdc0",
   "metadata": {},
   "outputs": [
    {
     "name": "stdout",
     "output_type": "stream",
     "text": [
      "7 is a prime number.\n"
     ]
    }
   ],
   "source": [
    "def prime_check(num):\n",
    "  if num<2:\n",
    "    print(num, \"is not a prime number.\")\n",
    "  for i in range (2, int(num/2)+1):\n",
    "    if num%i==0:\n",
    "      return print(num, \"is not a prime number.\")\n",
    "  else:\n",
    "    print(num, \"is a prime number.\")\n",
    "\n",
    "number = 7\n",
    "prime_check(number)"
   ]
  },
  {
   "cell_type": "code",
   "execution_count": 6,
   "id": "cbc4eb88",
   "metadata": {},
   "outputs": [
    {
     "name": "stdout",
     "output_type": "stream",
     "text": [
      "49 is not a prime number.\n"
     ]
    }
   ],
   "source": [
    "def prime_check(num):\n",
    "  if num<2:\n",
    "    print(num, \"is not a prime number.\")\n",
    "  for i in range (2, int(num**0.5)+1):\n",
    "    if num%i==0:\n",
    "      return print(num, \"is not a prime number.\")\n",
    "  else:\n",
    "    print(num, \"is a prime number.\")\n",
    "\n",
    "number = 49\n",
    "prime_check(number)"
   ]
  },
  {
   "cell_type": "code",
   "execution_count": 7,
   "id": "cf849e15",
   "metadata": {},
   "outputs": [
    {
     "name": "stdout",
     "output_type": "stream",
     "text": [
      "3\n"
     ]
    }
   ],
   "source": [
    "print(7//2)"
   ]
  },
  {
   "cell_type": "code",
   "execution_count": 8,
   "id": "f9ad20d2",
   "metadata": {},
   "outputs": [
    {
     "name": "stdout",
     "output_type": "stream",
     "text": [
      "nahdiB\n"
     ]
    }
   ],
   "source": [
    "word=\"Bidhan\"\n",
    "print(word[::-1])"
   ]
  },
  {
   "cell_type": "code",
   "execution_count": 9,
   "id": "7b519cb9",
   "metadata": {},
   "outputs": [
    {
     "name": "stdout",
     "output_type": "stream",
     "text": [
      "nahdiB\n"
     ]
    }
   ],
   "source": [
    "\n",
    "def reverse_string(word):\n",
    "  new_string=\"\"\n",
    "  for i in range(len(word)-1,-1,-1):\n",
    "\n",
    "    new_string+= word[i]\n",
    "  return new_string\n",
    "name = \"Bidhan\"\n",
    "print(reverse_string(name))\n",
    "  "
   ]
  },
  {
   "cell_type": "code",
   "execution_count": 10,
   "id": "82755522",
   "metadata": {},
   "outputs": [
    {
     "name": "stdout",
     "output_type": "stream",
     "text": [
      "nahdiB"
     ]
    }
   ],
   "source": [
    "name = \"Bidhan\"\n",
    "index=len(name)-1\n",
    "while index>=0:\n",
    "    print(name[index],end=\"\")\n",
    "    index-=1"
   ]
  },
  {
   "cell_type": "code",
   "execution_count": 11,
   "id": "6db6820a",
   "metadata": {},
   "outputs": [
    {
     "name": "stdout",
     "output_type": "stream",
     "text": [
      "120\n"
     ]
    }
   ],
   "source": [
    "def fact(num):\n",
    "  final=1\n",
    "  for i in range(2,num+1):\n",
    "    final*=i\n",
    "  return final\n",
    "number=101\n",
    "#print(fact(number))\n",
    "print(fact(5))"
   ]
  },
  {
   "cell_type": "code",
   "execution_count": 15,
   "id": "dda4579e",
   "metadata": {},
   "outputs": [
    {
     "name": "stdout",
     "output_type": "stream",
     "text": [
      "Madam is a palindrome.\n"
     ]
    }
   ],
   "source": [
    "def palindrome(word):\n",
    "    word = word.lower()\n",
    "    new = \"\"\n",
    "    for i in range(len(word)-1, -1, -1):\n",
    "        new += word[i]\n",
    "    if new == word:\n",
    "        return True\n",
    "    else:\n",
    "        return False\n",
    "word1 = \"Madam\"\n",
    "if palindrome(word1)== True:\n",
    "    print(word1, \"is a palindrome.\")\n",
    "else:\n",
    "    print(word1, \"is not a palindrome.\")\n"
   ]
  },
  {
   "cell_type": "code",
   "execution_count": 14,
   "id": "5ed5d4a1",
   "metadata": {},
   "outputs": [
    {
     "name": "stdout",
     "output_type": "stream",
     "text": [
      "madam is a palindrome\n"
     ]
    }
   ],
   "source": [
    "def palindrome_check(word):\n",
    "    word=word.lower()  # Normalize to lowercase for case-insensitive comparison\n",
    "    word = ''.join(filter(str.isalnum, word))  # Remove non-alphanumeric characters\n",
    "    if word == word[::-1]:\n",
    "        return print(f\"{word} is a palindrome\")\n",
    "    else:\n",
    "        return print(f\"{word} is not a palindrome\")\n",
    "palindrome_check(\"Madam\")\n"
   ]
  },
  {
   "cell_type": "code",
   "execution_count": 16,
   "id": "0cd595c5",
   "metadata": {},
   "outputs": [
    {
     "name": "stdout",
     "output_type": "stream",
     "text": [
      "40\n"
     ]
    }
   ],
   "source": [
    "list1 = [1, 2, 3, 40, 5]\n",
    "\n",
    "def largest(list):\n",
    "  num = list[0]  # Initialize with the first element\n",
    "  for i in list:\n",
    "    if i> num:\n",
    "      num = i  # Update num if a larger element is found\n",
    "  return num\n",
    "print(largest(list1))"
   ]
  },
  {
   "cell_type": "code",
   "execution_count": 17,
   "id": "a0c13b94",
   "metadata": {},
   "outputs": [
    {
     "name": "stdout",
     "output_type": "stream",
     "text": [
      "1\n",
      "2\n",
      "Fizz\n",
      "4\n",
      "Buzz\n",
      "Fizz\n",
      "7\n",
      "8\n",
      "Fizz\n",
      "Buzz\n",
      "11\n",
      "Fizz\n",
      "13\n",
      "14\n",
      "FizzBuzz\n",
      "16\n",
      "17\n",
      "Fizz\n",
      "19\n",
      "Buzz\n",
      "Fizz\n",
      "22\n",
      "23\n",
      "Fizz\n",
      "Buzz\n",
      "26\n",
      "Fizz\n",
      "28\n",
      "29\n",
      "FizzBuzz\n",
      "31\n",
      "32\n",
      "Fizz\n",
      "34\n",
      "Buzz\n",
      "Fizz\n",
      "37\n",
      "38\n",
      "Fizz\n",
      "Buzz\n",
      "41\n",
      "Fizz\n",
      "43\n",
      "44\n",
      "FizzBuzz\n",
      "46\n",
      "47\n",
      "Fizz\n",
      "49\n",
      "Buzz\n"
     ]
    }
   ],
   "source": [
    "def fizz_buzz(num):\n",
    "  for i in range(1,num+1):\n",
    "    if i%3==0 and i%5==0:\n",
    "      print(\"FizzBuzz\")\n",
    "    elif i%3==0:\n",
    "      print(\"Fizz\")\n",
    "    elif i%5==0:\n",
    "      print(\"Buzz\")\n",
    "    else:\n",
    "      print(i)\n",
    "\n",
    "num1=50\n",
    "fizz_buzz(num1)"
   ]
  },
  {
   "cell_type": "code",
   "execution_count": 33,
   "id": "0db1e646",
   "metadata": {},
   "outputs": [
    {
     "name": "stdout",
     "output_type": "stream",
     "text": [
      "Alice\n",
      "25\n",
      "not found\n",
      "Alice\n",
      "{'name': 'Alice', 'age': 25, 'country': 'Finland', 'city': 'Helsinki'}\n"
     ]
    }
   ],
   "source": [
    "my_dict = {\n",
    "    \"name\": \"Alice\",\n",
    "    \"age\": 25,\n",
    "    \"country\": \"Finland\"\n",
    "}\n",
    "print(my_dict[\"name\"])\n",
    "print(my_dict[\"age\"])\n",
    "print(my_dict.get(\"city\",\"not found\"))  \n",
    "print(my_dict.get(\"name\"))\n",
    "my_dict[\"city\"] = \"Helsinki\"  # Adding a new key-value pair\n",
    "\n",
    "print(my_dict)\n"
   ]
  },
  {
   "cell_type": "code",
   "execution_count": 34,
   "id": "550b0e63",
   "metadata": {},
   "outputs": [
    {
     "name": "stdout",
     "output_type": "stream",
     "text": [
      "{'name': 'Alice', 'age': 26, 'country': 'Finland', 'email': 'alice@example.com'}\n"
     ]
    }
   ],
   "source": [
    "my_dict[\"email\"] = \"alice@example.com\"   # Add\n",
    "my_dict[\"age\"] = 26                      # Update\n",
    "my_dict.pop(\"city\")\n",
    "print(my_dict)\n"
   ]
  },
  {
   "cell_type": "code",
   "execution_count": 35,
   "id": "0f7f11ee",
   "metadata": {},
   "outputs": [
    {
     "name": "stdout",
     "output_type": "stream",
     "text": [
      "{'name': 'Alice', 'age': 26, 'country': 'Finland'}\n"
     ]
    }
   ],
   "source": [
    "del my_dict[\"email\"]  # Delete a key-value pair\n",
    "print(my_dict)"
   ]
  },
  {
   "cell_type": "code",
   "execution_count": 37,
   "id": "5f5a1e97",
   "metadata": {},
   "outputs": [
    {
     "name": "stdout",
     "output_type": "stream",
     "text": [
      "{'name': 'Alice', 'age': 26, 'country': 'Finland'}\n",
      "{}\n"
     ]
    }
   ],
   "source": [
    "print(my_dict)\n",
    "my_dict.clear()  # Clear all items in the dictionary\n",
    "print(my_dict)  # Should print an empty dictionary"
   ]
  },
  {
   "cell_type": "code",
   "execution_count": 38,
   "id": "b2c29327",
   "metadata": {},
   "outputs": [],
   "source": [
    "my_dict = {\n",
    "    \"name\": \"Alice\",\n",
    "    \"age\": 25,\n",
    "    \"country\": \"Finland\"\n",
    "}"
   ]
  },
  {
   "cell_type": "code",
   "execution_count": 39,
   "id": "6f75aea0",
   "metadata": {},
   "outputs": [
    {
     "name": "stdout",
     "output_type": "stream",
     "text": [
      "name : Alice\n",
      "age : 25\n",
      "country : Finland\n"
     ]
    }
   ],
   "source": [
    "for i in my_dict:\n",
    "    print(i, \":\", my_dict[i])  # Print each key-value pair"
   ]
  },
  {
   "cell_type": "code",
   "execution_count": 41,
   "id": "8e284d1f",
   "metadata": {},
   "outputs": [
    {
     "name": "stdout",
     "output_type": "stream",
     "text": [
      "['apple', 'banana', 'apple', 'orange', 'banana', 'apple']\n",
      "{'apple': 3, 'banana': 2, 'orange': 1}\n"
     ]
    }
   ],
   "source": [
    "sentence = \"apple banana apple orange banana apple\"\n",
    "words = sentence.split()\n",
    "print(words)\n",
    "frequency = {}\n",
    "for i in words:\n",
    "  if i in frequency:\n",
    "    frequency[i]+=1\n",
    "  else:\n",
    "    frequency[i]=1\n",
    "print(frequency)"
   ]
  },
  {
   "cell_type": "code",
   "execution_count": 45,
   "id": "7a669ea9",
   "metadata": {},
   "outputs": [
    {
     "name": "stdout",
     "output_type": "stream",
     "text": [
      "['apple', 'banana', 'apple', 'orange', 'banana', 'apple']\n",
      "{'apple': 1}\n"
     ]
    }
   ],
   "source": [
    "sentence = \"apple banana apple orange banana apple\"\n",
    "words = sentence.split()\n",
    "print(words)\n",
    "frequency = {}\n",
    "frequency['apple'] = 1\n",
    "print(frequency)"
   ]
  },
  {
   "cell_type": "code",
   "execution_count": 47,
   "id": "0f3650bc",
   "metadata": {},
   "outputs": [
    {
     "name": "stdout",
     "output_type": "stream",
     "text": [
      "{1, 2, 3, 4, 5}\n",
      "{3}\n",
      "{1, 2}\n"
     ]
    }
   ],
   "source": [
    "a = {1, 2, 3}\n",
    "b = {3, 4, 5}\n",
    "\n",
    "print(a | b)  # Union: {1, 2, 3, 4, 5}\n",
    "print(a & b)  # Intersection: {3}\n",
    "print(a - b)  # Difference: {1, 2}\n"
   ]
  },
  {
   "cell_type": "code",
   "execution_count": 66,
   "id": "16da0858",
   "metadata": {},
   "outputs": [
    {
     "name": "stdout",
     "output_type": "stream",
     "text": [
      "[1, 3, 4, 5, 7]\n"
     ]
    }
   ],
   "source": [
    "list= [1,3,3,4,4,5,7,5]\n",
    "my_set = set()\n",
    "for i in list:\n",
    "  my_set.add(i) # Add elements to the set to ensure uniqueness\n",
    "list1 = []\n",
    "for i in my_set:\n",
    "  list1.append(i)  # Append unique elements to list1\n",
    "print(list1)  # Should print the unique elements from the list"
   ]
  },
  {
   "cell_type": "code",
   "execution_count": 69,
   "id": "4898350b",
   "metadata": {},
   "outputs": [
    {
     "name": "stdout",
     "output_type": "stream",
     "text": [
      "[1, 3, 4, 5, 7]\n"
     ]
    }
   ],
   "source": [
    "numbers = [1, 3, 3, 4, 4, 5, 7, 5]\n",
    "unique_numbers = list(set(numbers))\n",
    "print(unique_numbers)\n"
   ]
  },
  {
   "cell_type": "code",
   "execution_count": 70,
   "id": "25827d00",
   "metadata": {},
   "outputs": [
    {
     "name": "stdout",
     "output_type": "stream",
     "text": [
      "listen and silent are anagrams.\n",
      "hello and world are not anagrams.\n"
     ]
    }
   ],
   "source": [
    "def anagrams(str1,str2):\n",
    "    if sorted(str1)== sorted(str2):\n",
    "        return print(f\"{str1} and {str2} are anagrams.\")\n",
    "    else:\n",
    "        return print(f\"{str1} and {str2} are not anagrams.\")\n",
    "\n",
    "anagrams(\"listen\", \"silent\")\n",
    "anagrams(\"hello\", \"world\")"
   ]
  },
  {
   "cell_type": "code",
   "execution_count": 71,
   "id": "3cd9674e",
   "metadata": {},
   "outputs": [
    {
     "name": "stdout",
     "output_type": "stream",
     "text": [
      "listen and silent are anagrams.\n",
      "hello and world are not anagrams.\n"
     ]
    }
   ],
   "source": [
    "def anagrams(str1, str2):\n",
    "    if len(str1) != len(str2):\n",
    "        return print(f\"{str1} and {str2} are not anagrams.\")\n",
    "    \n",
    "    word1={}\n",
    "    word2={}\n",
    "    for i in str1:\n",
    "        word1[i]= word1.get(i,0) +1\n",
    "    for i in str2:\n",
    "        word2[i]= word2.get(i,0) +1\n",
    "    if word1 == word2:\n",
    "        return print(f\"{str1} and {str2} are anagrams.\")\n",
    "    else:\n",
    "        return print(f\"{str1} and {str2} are not anagrams.\")\n",
    "\n",
    "anagrams(\"listen\", \"silent\")\n",
    "anagrams(\"hello\", \"world\")  "
   ]
  },
  {
   "cell_type": "code",
   "execution_count": null,
   "id": "205f10e4",
   "metadata": {},
   "outputs": [],
   "source": [
    "phonebook={}\n",
    "\n",
    "phonebook[\"Alice\"] = \"123-456-7890\"\n",
    "phonebook[\"Bob\"] = \"987-654-3210\"\n",
    "\n",
    "name = input(\"Enter a name to search in the phonebook: \")\n",
    "phone = input(f\"Enter the phone number: \")\n",
    "phonebook[name] = phone  # Add or update the phone number for the given name\n",
    "\n",
    "search_name = input(\"Enter a name to search in the phonebook: \")\n",
    "\n",
    "if search_name in phonebook:\n",
    "    print(f\"{search_name}'s phone number is {phonebook[search_name]}\")  \n",
    "else:\n",
    "    print(f\"{search_name} not found in the phonebook.\")\n",
    "\n",
    "for name1, phone1 in phonebook.items():\n",
    "    print(name1, \":\", phone1)\n"
   ]
  },
  {
   "cell_type": "code",
   "execution_count": null,
   "id": "eb4c730d",
   "metadata": {},
   "outputs": [],
   "source": [
    "phonebook = {}\n",
    "\n",
    "# Pre-filled contacts (keep original casing)\n",
    "phonebook[\"Alice\"] = \"123-456-7890\"\n",
    "phonebook[\"Bob\"] = \"987-654-3210\"\n",
    "\n",
    "choice = input(\"Do you want to add a contact or search for a contact? (add/search): \").strip().lower()\n",
    "\n",
    "if choice == \"add\":\n",
    "    name = input(\"Enter a name to add in the phonebook: \").strip()\n",
    "    phone = input(\"Enter the phone number: \").strip()\n",
    "    phonebook[name] = phone  # keep original case\n",
    "    print(f\"{name} has been added to the phonebook.\")\n",
    "\n",
    "elif choice == \"search\":\n",
    "    search_name = input(\"Enter a name to search in the phonebook: \").strip()\n",
    "\n",
    "    # Find a match ignoring case\n",
    "    found = False\n",
    "    for key in phonebook:\n",
    "        if key.lower() == search_name.lower():\n",
    "            print(f\"{search_name}'s phone number is {phonebook[key]}\")\n",
    "            found = True\n",
    "            break\n",
    "\n",
    "    if not found:\n",
    "        print(f\"{search_name} not found in the phonebook.\")\n",
    "\n",
    "else:\n",
    "    print(\"Invalid choice. Please type 'add' or 'search'.\")\n",
    "\n",
    "# Show all contacts\n",
    "print(\"\\nAll contacts:\")\n",
    "for name1, phone1 in phonebook.items():\n",
    "    print(name1, \":\", phone1)\n"
   ]
  }
 ],
 "metadata": {
  "kernelspec": {
   "display_name": "churn_env",
   "language": "python",
   "name": "churn_env"
  },
  "language_info": {
   "codemirror_mode": {
    "name": "ipython",
    "version": 3
   },
   "file_extension": ".py",
   "mimetype": "text/x-python",
   "name": "python",
   "nbconvert_exporter": "python",
   "pygments_lexer": "ipython3",
   "version": "3.13.5"
  }
 },
 "nbformat": 4,
 "nbformat_minor": 5
}
