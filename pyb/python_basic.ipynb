{
 "cells": [
  {
   "cell_type": "code",
   "execution_count": 2,
   "id": "7b341efc",
   "metadata": {},
   "outputs": [
    {
     "name": "stdout",
     "output_type": "stream",
     "text": [
      "5\n"
     ]
    }
   ],
   "source": [
    "a=5\n",
    "print(a)"
   ]
  },
  {
   "cell_type": "code",
   "execution_count": 3,
   "id": "750509cf",
   "metadata": {},
   "outputs": [
    {
     "name": "stdout",
     "output_type": "stream",
     "text": [
      "6\n",
      "9\n",
      "92\n",
      "14\n",
      "5\n",
      "10\n",
      "[6, 9, 92, 14, 5, 10]\n"
     ]
    }
   ],
   "source": [
    "my_list=[4,7,90,12,3,8]\n",
    "c=[]\n",
    "for i in my_list:\n",
    "  i=i+2\n",
    "  print (i)\n",
    "  c.append(i)\n",
    "print(c)"
   ]
  },
  {
   "cell_type": "code",
   "execution_count": 4,
   "id": "890c04d0",
   "metadata": {},
   "outputs": [
    {
     "name": "stdout",
     "output_type": "stream",
     "text": [
      "10\n"
     ]
    }
   ],
   "source": [
    "a=5\n",
    "\n",
    "if a<6:\n",
    "  b=a+5\n",
    "elif a>6:\n",
    "  b=a-5\n",
    "else:\n",
    "  b=a*5\n",
    "\n",
    "print(b)"
   ]
  },
  {
   "cell_type": "code",
   "execution_count": 5,
   "id": "be58b031",
   "metadata": {},
   "outputs": [
    {
     "name": "stdout",
     "output_type": "stream",
     "text": [
      "Hello,   !\n"
     ]
    }
   ],
   "source": [
    "name1= input(\"What is your name?\")\n",
    "def greet(name):\n",
    "  print (\"Hello, \", name , \"!\")\n",
    "greet(name1)\n"
   ]
  },
  {
   "cell_type": "code",
   "execution_count": 6,
   "id": "cbef9a4c",
   "metadata": {},
   "outputs": [
    {
     "name": "stdout",
     "output_type": "stream",
     "text": [
      "Your name is Jessia\n"
     ]
    }
   ],
   "source": [
    "name=\"Jessia\"\n",
    "print(f\"Your name is {name}\")"
   ]
  },
  {
   "cell_type": "code",
   "execution_count": 7,
   "id": "66967f6e",
   "metadata": {},
   "outputs": [
    {
     "name": "stdout",
     "output_type": "stream",
     "text": [
      "Hello, \n"
     ]
    }
   ],
   "source": [
    "name = input(\"What is your name? \")\n",
    "print(\"Hello,\", name)\n"
   ]
  },
  {
   "cell_type": "code",
   "execution_count": 8,
   "id": "3b5e1664",
   "metadata": {},
   "outputs": [
    {
     "data": {
      "application/vnd.jupyter.widget-view+json": {
       "model_id": "f7fd5406a7024caa80278f5766849e79",
       "version_major": 2,
       "version_minor": 0
      },
      "text/plain": [
       "Text(value='', description='Your name:')"
      ]
     },
     "metadata": {},
     "output_type": "display_data"
    },
    {
     "data": {
      "application/vnd.jupyter.widget-view+json": {
       "model_id": "46fa9dab906143339fae5ee39cbecb74",
       "version_major": 2,
       "version_minor": 0
      },
      "text/plain": [
       "Button(description='Greet Me', style=ButtonStyle())"
      ]
     },
     "metadata": {},
     "output_type": "display_data"
    },
    {
     "data": {
      "application/vnd.jupyter.widget-view+json": {
       "model_id": "e766a45ce48041328ec9ef015c176ae9",
       "version_major": 2,
       "version_minor": 0
      },
      "text/plain": [
       "Output()"
      ]
     },
     "metadata": {},
     "output_type": "display_data"
    }
   ],
   "source": [
    "from IPython.display import display\n",
    "import ipywidgets as widgets\n",
    "\n",
    "name_box = widgets.Text(description=\"Your name:\")\n",
    "button = widgets.Button(description=\"Greet Me\")\n",
    "\n",
    "output = widgets.Output()\n",
    "\n",
    "def on_button_click(b):\n",
    "    with output:\n",
    "        output.clear_output()\n",
    "        print(f\"Hello, {name_box.value}!\")\n",
    "\n",
    "button.on_click(on_button_click)\n",
    "\n",
    "display(name_box, button, output)\n"
   ]
  },
  {
   "cell_type": "markdown",
   "id": "f3e5d0b4",
   "metadata": {},
   "source": [
    "Write a function that checks if a number is prime."
   ]
  },
  {
   "cell_type": "code",
   "execution_count": null,
   "id": "c8756ddc",
   "metadata": {},
   "outputs": [
    {
     "name": "stdout",
     "output_type": "stream",
     "text": [
      "3 is a prime number.\n"
     ]
    }
   ],
   "source": [
    "def prime_num_checker(num):\n",
    "    if num < 2:\n",
    "        return False\n",
    "    for i in range(2, num):\n",
    "        if num%i==0:\n",
    "            return print(num, \"is not a prime number.\")\n",
    "    return print(num, \"is a prime number.\")\n",
    "\n",
    "number=3\n",
    "prime_num_checker(number)"
   ]
  },
  {
   "cell_type": "code",
   "execution_count": 36,
   "id": "3c14fdc0",
   "metadata": {},
   "outputs": [
    {
     "name": "stdout",
     "output_type": "stream",
     "text": [
      "7 is a prime number.\n"
     ]
    }
   ],
   "source": [
    "def prime_check(num):\n",
    "  if num<2:\n",
    "    print(num, \"is not a prime number.\")\n",
    "  for i in range (2, int(num/2)+1):\n",
    "    if num%i==0:\n",
    "      return print(num, \"is not a prime number.\")\n",
    "  else:\n",
    "    print(num, \"is a prime number.\")\n",
    "\n",
    "number = 7\n",
    "prime_check(number)"
   ]
  },
  {
   "cell_type": "code",
   "execution_count": 38,
   "id": "cbc4eb88",
   "metadata": {},
   "outputs": [
    {
     "name": "stdout",
     "output_type": "stream",
     "text": [
      "49 is not a prime number.\n"
     ]
    }
   ],
   "source": [
    "def prime_check(num):\n",
    "  if num<2:\n",
    "    print(num, \"is not a prime number.\")\n",
    "  for i in range (2, int(num**0.5)+1):\n",
    "    if num%i==0:\n",
    "      return print(num, \"is not a prime number.\")\n",
    "  else:\n",
    "    print(num, \"is a prime number.\")\n",
    "\n",
    "number = 49\n",
    "prime_check(number)"
   ]
  },
  {
   "cell_type": "code",
   "execution_count": 22,
   "id": "cf849e15",
   "metadata": {},
   "outputs": [
    {
     "name": "stdout",
     "output_type": "stream",
     "text": [
      "3\n"
     ]
    }
   ],
   "source": [
    "print(7//2)"
   ]
  },
  {
   "cell_type": "code",
   "execution_count": 45,
   "id": "f9ad20d2",
   "metadata": {},
   "outputs": [
    {
     "name": "stdout",
     "output_type": "stream",
     "text": [
      "nahdiB\n"
     ]
    }
   ],
   "source": [
    "word=\"Bidhan\"\n",
    "print(word[::-1])"
   ]
  },
  {
   "cell_type": "code",
   "execution_count": 48,
   "id": "7b519cb9",
   "metadata": {},
   "outputs": [
    {
     "name": "stdout",
     "output_type": "stream",
     "text": [
      "nahdiB\n"
     ]
    }
   ],
   "source": [
    "\n",
    "def reverse_string(word):\n",
    "  new_string=\"\"\n",
    "  for i in range(len(word)-1,-1,-1):\n",
    "\n",
    "    new_string+= word[i]\n",
    "  return new_string\n",
    "name = \"Bidhan\"\n",
    "print(reverse_string(name))\n",
    "  "
   ]
  },
  {
   "cell_type": "code",
   "execution_count": 51,
   "id": "82755522",
   "metadata": {},
   "outputs": [
    {
     "name": "stdout",
     "output_type": "stream",
     "text": [
      "nahdiB"
     ]
    }
   ],
   "source": [
    "name = \"Bidhan\"\n",
    "index=len(name)-1\n",
    "while index>=0:\n",
    "    print(name[index],end=\"\")\n",
    "    index-=1"
   ]
  },
  {
   "cell_type": "code",
   "execution_count": 54,
   "id": "6db6820a",
   "metadata": {},
   "outputs": [
    {
     "name": "stdout",
     "output_type": "stream",
     "text": [
      "120\n"
     ]
    }
   ],
   "source": [
    "def fact(num):\n",
    "  final=1\n",
    "  for i in range(2,num+1):\n",
    "    final*=i\n",
    "  return final\n",
    "number=101\n",
    "#print(fact(number))\n",
    "print(fact(5))"
   ]
  },
  {
   "cell_type": "code",
   "execution_count": 63,
   "id": "dda4579e",
   "metadata": {},
   "outputs": [
    {
     "name": "stdout",
     "output_type": "stream",
     "text": [
      "Madam is a palindrome.\n"
     ]
    }
   ],
   "source": [
    "def palindrome(word):\n",
    "    word = word.lower()\n",
    "    new = \"\"\n",
    "    for i in range(len(word)-1, -1, -1):\n",
    "        new += word[i]\n",
    "    if new == word:\n",
    "        return True\n",
    "    else:\n",
    "        return False\n",
    "word1 = \"Madam\"\n",
    "if palindrome(word1)== True:\n",
    "    print(word1, \"is a palindrome.\")\n",
    "else:\n",
    "    print(word1, \"is not a palindrome.\")\n"
   ]
  },
  {
   "cell_type": "code",
   "execution_count": 61,
   "id": "5ed5d4a1",
   "metadata": {},
   "outputs": [
    {
     "name": "stdout",
     "output_type": "stream",
     "text": [
      "madam is a palindrome\n"
     ]
    }
   ],
   "source": [
    "def palindrome_check(word):\n",
    "    word=word.lower()  # Normalize to lowercase for case-insensitive comparison\n",
    "    word = ''.join(filter(str.isalnum, word))  # Remove non-alphanumeric characters\n",
    "    if word == word[::-1]:\n",
    "        return print(f\"{word} is a palindrome\")\n",
    "    else:\n",
    "        return print(f\"{word} is not a palindrome\")\n",
    "palindrome_check(\"Madam\")\n"
   ]
  },
  {
   "cell_type": "code",
   "execution_count": 67,
   "id": "0cd595c5",
   "metadata": {},
   "outputs": [
    {
     "name": "stdout",
     "output_type": "stream",
     "text": [
      "40\n"
     ]
    }
   ],
   "source": [
    "list1 = [1, 2, 3, 40, 5]\n",
    "\n",
    "def largest(list):\n",
    "  num = list[0]  # Initialize with the first element\n",
    "  for i in list:\n",
    "    if i> num:\n",
    "      num = i  # Update num if a larger element is found\n",
    "  return num\n",
    "print(largest(list1))"
   ]
  },
  {
   "cell_type": "code",
   "execution_count": 76,
   "id": "a0c13b94",
   "metadata": {},
   "outputs": [
    {
     "name": "stdout",
     "output_type": "stream",
     "text": [
      "1\n",
      "2\n",
      "Fizz\n",
      "4\n",
      "Buzz\n",
      "Fizz\n",
      "7\n",
      "8\n",
      "Fizz\n",
      "Buzz\n",
      "11\n",
      "Fizz\n",
      "13\n",
      "14\n",
      "FizzBuzz\n",
      "16\n",
      "17\n",
      "Fizz\n",
      "19\n",
      "Buzz\n",
      "Fizz\n",
      "22\n",
      "23\n",
      "Fizz\n",
      "Buzz\n",
      "26\n",
      "Fizz\n",
      "28\n",
      "29\n",
      "FizzBuzz\n",
      "31\n",
      "32\n",
      "Fizz\n",
      "34\n",
      "Buzz\n",
      "Fizz\n",
      "37\n",
      "38\n",
      "Fizz\n",
      "Buzz\n",
      "41\n",
      "Fizz\n",
      "43\n",
      "44\n",
      "FizzBuzz\n",
      "46\n",
      "47\n",
      "Fizz\n",
      "49\n",
      "Buzz\n"
     ]
    }
   ],
   "source": [
    "def fizz_buzz(num):\n",
    "  for i in range(1,num+1):\n",
    "    if i%3==0 and i%5==0:\n",
    "      print(\"FizzBuzz\")\n",
    "    elif i%3==0:\n",
    "      print(\"Fizz\")\n",
    "    elif i%5==0:\n",
    "      print(\"Buzz\")\n",
    "    else:\n",
    "      print(i)\n",
    "\n",
    "num1=50\n",
    "fizz_buzz(num1)"
   ]
  }
 ],
 "metadata": {
  "kernelspec": {
   "display_name": "Python (customer_churn_env)",
   "language": "python",
   "name": "customer_churn_shared_env"
  },
  "language_info": {
   "codemirror_mode": {
    "name": "ipython",
    "version": 3
   },
   "file_extension": ".py",
   "mimetype": "text/x-python",
   "name": "python",
   "nbconvert_exporter": "python",
   "pygments_lexer": "ipython3",
   "version": "3.13.5"
  }
 },
 "nbformat": 4,
 "nbformat_minor": 5
}
